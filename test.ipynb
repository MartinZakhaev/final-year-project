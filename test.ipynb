{
 "cells": [
  {
   "cell_type": "code",
   "execution_count": 13,
   "metadata": {},
   "outputs": [],
   "source": [
    "import torch\n",
    "import os\n",
    "import torch_pruning as tp\n",
    "from models_training import ImageClassificationModel\n",
    "from torchinfo import summary"
   ]
  },
  {
   "cell_type": "code",
   "execution_count": 14,
   "metadata": {},
   "outputs": [],
   "source": [
    "# Initialize the model architecture\n",
    "model = ImageClassificationModel(model_name='efficientnetv2s', num_classes=2)"
   ]
  },
  {
   "cell_type": "code",
   "execution_count": 15,
   "metadata": {},
   "outputs": [],
   "source": [
    "\n",
    "# Load the state dictionary\n",
    "state_dict = torch.load('state_dictionaries/.neptune/FIN-33/FIN-33/checkpoints/epoch=4-step=3910.pth')\n"
   ]
  },
  {
   "cell_type": "code",
   "execution_count": 16,
   "metadata": {},
   "outputs": [
    {
     "name": "stdout",
     "output_type": "stream",
     "text": [
      "Loaded state dictionary for model: efficientnetv2s\n"
     ]
    }
   ],
   "source": [
    "# Retrieve the model name\n",
    "model_name = state_dict.get('model_name', 'Unknown')\n",
    "print(f'Loaded state dictionary for model: {model_name}')"
   ]
  },
  {
   "cell_type": "code",
   "execution_count": 17,
   "metadata": {},
   "outputs": [
    {
     "data": {
      "text/plain": [
       "'efficientnetv2s'"
      ]
     },
     "execution_count": 17,
     "metadata": {},
     "output_type": "execute_result"
    }
   ],
   "source": [
    "# Optionally, remove the model_name entry from the state_dict if needed\n",
    "state_dict.pop('model_name', None)"
   ]
  },
  {
   "cell_type": "code",
   "execution_count": 18,
   "metadata": {},
   "outputs": [
    {
     "data": {
      "text/plain": [
       "<All keys matched successfully>"
      ]
     },
     "execution_count": 18,
     "metadata": {},
     "output_type": "execute_result"
    }
   ],
   "source": [
    "\n",
    "# Load the state dictionary into the model\n",
    "model.load_state_dict(state_dict)\n"
   ]
  },
  {
   "cell_type": "code",
   "execution_count": 19,
   "metadata": {},
   "outputs": [
    {
     "data": {
      "text/plain": [
       "'efficientnetv2s'"
      ]
     },
     "execution_count": 19,
     "metadata": {},
     "output_type": "execute_result"
    }
   ],
   "source": [
    "model.hparams.model_name"
   ]
  },
  {
   "cell_type": "code",
   "execution_count": 20,
   "metadata": {},
   "outputs": [
    {
     "data": {
      "text/plain": [
       "=========================================================================================================\n",
       "Layer (type:depth-idx)                                  Output Shape              Param #\n",
       "=========================================================================================================\n",
       "EfficientNet                                            [1, 2]                    --\n",
       "├─Sequential: 1-1                                       [1, 1280, 4, 4]           --\n",
       "│    └─Conv2dNormActivation: 2-1                        [1, 24, 64, 64]           --\n",
       "│    │    └─Conv2d: 3-1                                 [1, 24, 64, 64]           648\n",
       "│    │    └─BatchNorm2d: 3-2                            [1, 24, 64, 64]           48\n",
       "│    │    └─SiLU: 3-3                                   [1, 24, 64, 64]           --\n",
       "│    └─Sequential: 2-2                                  [1, 24, 64, 64]           --\n",
       "│    │    └─FusedMBConv: 3-4                            [1, 24, 64, 64]           5,232\n",
       "│    │    └─FusedMBConv: 3-5                            [1, 24, 64, 64]           5,232\n",
       "│    └─Sequential: 2-3                                  [1, 48, 32, 32]           --\n",
       "│    │    └─FusedMBConv: 3-6                            [1, 48, 32, 32]           25,632\n",
       "│    │    └─FusedMBConv: 3-7                            [1, 48, 32, 32]           92,640\n",
       "│    │    └─FusedMBConv: 3-8                            [1, 48, 32, 32]           92,640\n",
       "│    │    └─FusedMBConv: 3-9                            [1, 48, 32, 32]           92,640\n",
       "│    └─Sequential: 2-4                                  [1, 64, 16, 16]           --\n",
       "│    │    └─FusedMBConv: 3-10                           [1, 64, 16, 16]           95,744\n",
       "│    │    └─FusedMBConv: 3-11                           [1, 64, 16, 16]           164,480\n",
       "│    │    └─FusedMBConv: 3-12                           [1, 64, 16, 16]           164,480\n",
       "│    │    └─FusedMBConv: 3-13                           [1, 64, 16, 16]           164,480\n",
       "│    └─Sequential: 2-5                                  [1, 128, 8, 8]            --\n",
       "│    │    └─MBConv: 3-14                                [1, 128, 8, 8]            61,200\n",
       "│    │    └─MBConv: 3-15                                [1, 128, 8, 8]            171,296\n",
       "│    │    └─MBConv: 3-16                                [1, 128, 8, 8]            171,296\n",
       "│    │    └─MBConv: 3-17                                [1, 128, 8, 8]            171,296\n",
       "│    │    └─MBConv: 3-18                                [1, 128, 8, 8]            171,296\n",
       "│    │    └─MBConv: 3-19                                [1, 128, 8, 8]            171,296\n",
       "│    └─Sequential: 2-6                                  [1, 160, 8, 8]            --\n",
       "│    │    └─MBConv: 3-20                                [1, 160, 8, 8]            281,440\n",
       "│    │    └─MBConv: 3-21                                [1, 160, 8, 8]            397,800\n",
       "│    │    └─MBConv: 3-22                                [1, 160, 8, 8]            397,800\n",
       "│    │    └─MBConv: 3-23                                [1, 160, 8, 8]            397,800\n",
       "│    │    └─MBConv: 3-24                                [1, 160, 8, 8]            397,800\n",
       "│    │    └─MBConv: 3-25                                [1, 160, 8, 8]            397,800\n",
       "│    │    └─MBConv: 3-26                                [1, 160, 8, 8]            397,800\n",
       "│    │    └─MBConv: 3-27                                [1, 160, 8, 8]            397,800\n",
       "│    │    └─MBConv: 3-28                                [1, 160, 8, 8]            397,800\n",
       "│    └─Sequential: 2-7                                  [1, 256, 4, 4]            --\n",
       "│    │    └─MBConv: 3-29                                [1, 256, 4, 4]            490,152\n",
       "│    │    └─MBConv: 3-30                                [1, 256, 4, 4]            1,005,120\n",
       "│    │    └─MBConv: 3-31                                [1, 256, 4, 4]            1,005,120\n",
       "│    │    └─MBConv: 3-32                                [1, 256, 4, 4]            1,005,120\n",
       "│    │    └─MBConv: 3-33                                [1, 256, 4, 4]            1,005,120\n",
       "│    │    └─MBConv: 3-34                                [1, 256, 4, 4]            1,005,120\n",
       "│    │    └─MBConv: 3-35                                [1, 256, 4, 4]            1,005,120\n",
       "│    │    └─MBConv: 3-36                                [1, 256, 4, 4]            1,005,120\n",
       "│    │    └─MBConv: 3-37                                [1, 256, 4, 4]            1,005,120\n",
       "│    │    └─MBConv: 3-38                                [1, 256, 4, 4]            1,005,120\n",
       "│    │    └─MBConv: 3-39                                [1, 256, 4, 4]            1,005,120\n",
       "│    │    └─MBConv: 3-40                                [1, 256, 4, 4]            1,005,120\n",
       "│    │    └─MBConv: 3-41                                [1, 256, 4, 4]            1,005,120\n",
       "│    │    └─MBConv: 3-42                                [1, 256, 4, 4]            1,005,120\n",
       "│    │    └─MBConv: 3-43                                [1, 256, 4, 4]            1,005,120\n",
       "│    └─Conv2dNormActivation: 2-8                        [1, 1280, 4, 4]           --\n",
       "│    │    └─Conv2d: 3-44                                [1, 1280, 4, 4]           327,680\n",
       "│    │    └─BatchNorm2d: 3-45                           [1, 1280, 4, 4]           2,560\n",
       "│    │    └─SiLU: 3-46                                  [1, 1280, 4, 4]           --\n",
       "├─AdaptiveAvgPool2d: 1-2                                [1, 1280, 1, 1]           --\n",
       "├─Sequential: 1-3                                       [1, 2]                    --\n",
       "│    └─Dropout: 2-9                                     [1, 1280]                 --\n",
       "│    └─Linear: 2-10                                     [1, 2]                    2,562\n",
       "=========================================================================================================\n",
       "Total params: 20,180,050\n",
       "Trainable params: 20,180,050\n",
       "Non-trainable params: 0\n",
       "Total mult-adds (M): 932.82\n",
       "=========================================================================================================\n",
       "Input size (MB): 0.20\n",
       "Forward/backward pass size (MB): 63.80\n",
       "Params size (MB): 80.72\n",
       "Estimated Total Size (MB): 144.72\n",
       "========================================================================================================="
      ]
     },
     "execution_count": 20,
     "metadata": {},
     "output_type": "execute_result"
    }
   ],
   "source": [
    "summary(model.model, input_size=(1, 3, 128, 128))"
   ]
  },
  {
   "cell_type": "code",
   "execution_count": 22,
   "metadata": {},
   "outputs": [],
   "source": [
    "device = torch.device('cuda:0')"
   ]
  },
  {
   "cell_type": "code",
   "execution_count": 23,
   "metadata": {},
   "outputs": [],
   "source": [
    "example_inputs = torch.randn(1, 3, 128, 128, device='cuda')"
   ]
  },
  {
   "cell_type": "code",
   "execution_count": 24,
   "metadata": {},
   "outputs": [
    {
     "name": "stdout",
     "output_type": "stream",
     "text": [
      "====== Forward (Inferece with torch.no_grad) ======\n",
      "latency: 21.1618 +/- 5.4765 ms\n",
      "memory: 372.2427 MB\n",
      "fps: 47.8205\n",
      "throughput (bz=256): 1295.9499 images/s\n"
     ]
    }
   ],
   "source": [
    "# Test forward in eval mode\n",
    "print(\"====== Forward (Inferece with torch.no_grad) ======\")\n",
    "with torch.no_grad():\n",
    "    laterncy_mu, latency_std= tp.utils.benchmark.measure_latency(model, example_inputs, repeat=300)\n",
    "    print('latency: {:.4f} +/- {:.4f} ms'.format(laterncy_mu, latency_std))\n",
    "\n",
    "    memory = tp.utils.benchmark.measure_memory(model, example_inputs, device=device)\n",
    "    print('memory: {:.4f} MB'.format(memory/ (1024)**2))\n",
    "\n",
    "    example_inputs_bs1 = torch.randn(1, 3, 128, 128, device='cuda')\n",
    "    fps = tp.utils.benchmark.measure_fps(model, example_inputs_bs1, repeat=300)\n",
    "    print('fps: {:.4f}'.format(fps))\n",
    "\n",
    "    example_inputs = torch.randn(128, 3, 128, 128, device='cuda')\n",
    "    throughput = tp.utils.benchmark.measure_throughput(model, example_inputs, repeat=300)\n",
    "    print('throughput (bz=256): {:.4f} images/s'.format(throughput))"
   ]
  },
  {
   "cell_type": "code",
   "execution_count": 1,
   "metadata": {},
   "outputs": [],
   "source": [
    "import os"
   ]
  },
  {
   "cell_type": "code",
   "execution_count": 5,
   "metadata": {},
   "outputs": [],
   "source": [
    "from models_training import ImageClassificationModel"
   ]
  },
  {
   "cell_type": "code",
   "execution_count": 2,
   "metadata": {},
   "outputs": [],
   "source": [
    "checkpoint_path = os.path.normpath('.neptune\\FIN-67\\FIN-67\\checkpoints\\epoch=4-step=3910.ckpt')"
   ]
  },
  {
   "cell_type": "code",
   "execution_count": 3,
   "metadata": {},
   "outputs": [
    {
     "data": {
      "text/plain": [
       "'.neptune\\\\FIN-67\\\\FIN-67\\\\checkpoints\\\\epoch=4-step=3910.ckpt'"
      ]
     },
     "execution_count": 3,
     "metadata": {},
     "output_type": "execute_result"
    }
   ],
   "source": [
    "checkpoint_path"
   ]
  },
  {
   "cell_type": "code",
   "execution_count": 6,
   "metadata": {},
   "outputs": [],
   "source": [
    "model = ImageClassificationModel.load_from_checkpoint(checkpoint_path)"
   ]
  },
  {
   "cell_type": "code",
   "execution_count": 7,
   "metadata": {},
   "outputs": [],
   "source": [
    "state_dict = model.state_dict()"
   ]
  },
  {
   "cell_type": "code",
   "execution_count": 8,
   "metadata": {},
   "outputs": [],
   "source": [
    "# Include the model name in the state dictionary\n",
    "state_dict['model_name'] = model.hparams.model_name\n",
    "\n",
    "# Extract the necessary parts from the checkpoint path\n",
    "base_name = os.path.basename(checkpoint_path)\n",
    "dir_name = os.path.dirname(checkpoint_path)\n",
    "save_dir = os.path.join('state_dictionaries', dir_name)\n",
    "\n",
    "# Ensure the save directory exists\n",
    "os.makedirs(save_dir, exist_ok=True)"
   ]
  },
  {
   "cell_type": "code",
   "execution_count": 10,
   "metadata": {},
   "outputs": [],
   "source": [
    "import torch"
   ]
  },
  {
   "cell_type": "code",
   "execution_count": 11,
   "metadata": {},
   "outputs": [
    {
     "name": "stdout",
     "output_type": "stream",
     "text": [
      "Saved state dictionary at state_dictionaries\\.neptune\\FIN-67\\FIN-67\\checkpoints\\epoch=4-step=3910.pth\n"
     ]
    }
   ],
   "source": [
    "# Create the save path for the state dictionary\n",
    "save_path = os.path.join(save_dir, base_name.replace('.ckpt', '.pth'))\n",
    "\n",
    "# Save the state dictionary\n",
    "torch.save(state_dict, save_path)\n",
    "print(f'Saved state dictionary at {save_path}')"
   ]
  },
  {
   "cell_type": "code",
   "execution_count": 12,
   "metadata": {},
   "outputs": [],
   "source": [
    "import os"
   ]
  },
  {
   "cell_type": "code",
   "execution_count": 13,
   "metadata": {},
   "outputs": [],
   "source": [
    "path = \"state_dictionaries\\.neptune\\FIN-67\\FIN-67\\checkpoints\\epoch=4-step=3910.pth\""
   ]
  },
  {
   "cell_type": "code",
   "execution_count": 14,
   "metadata": {},
   "outputs": [],
   "source": [
    "test = os.path.normpath(path)"
   ]
  },
  {
   "cell_type": "code",
   "execution_count": 15,
   "metadata": {},
   "outputs": [
    {
     "data": {
      "text/plain": [
       "'state_dictionaries\\\\.neptune\\\\FIN-67\\\\FIN-67\\\\checkpoints\\\\epoch=4-step=3910.pth'"
      ]
     },
     "execution_count": 15,
     "metadata": {},
     "output_type": "execute_result"
    }
   ],
   "source": [
    "test"
   ]
  },
  {
   "cell_type": "code",
   "execution_count": 16,
   "metadata": {},
   "outputs": [],
   "source": [
    "# Split the path based on the separator (\\ in this case)\n",
    "parts = test.split('\\\\')\n",
    "\n",
    "# Find the index where 'state_dictionaries' is located\n",
    "index = parts.index('state_dictionaries')"
   ]
  },
  {
   "cell_type": "code",
   "execution_count": 17,
   "metadata": {},
   "outputs": [
    {
     "data": {
      "text/plain": [
       "['state_dictionaries',\n",
       " '.neptune',\n",
       " 'FIN-67',\n",
       " 'FIN-67',\n",
       " 'checkpoints',\n",
       " 'epoch=4-step=3910.pth']"
      ]
     },
     "execution_count": 17,
     "metadata": {},
     "output_type": "execute_result"
    }
   ],
   "source": [
    "parts"
   ]
  },
  {
   "cell_type": "code",
   "execution_count": 9,
   "metadata": {},
   "outputs": [],
   "source": [
    "# Extract the prefix path\n",
    "prefix_path = os.path.join(*parts[:index + 3])"
   ]
  },
  {
   "cell_type": "code",
   "execution_count": 10,
   "metadata": {},
   "outputs": [
    {
     "data": {
      "text/plain": [
       "'state_dictionaries\\\\.neptune\\\\FIN-67'"
      ]
     },
     "execution_count": 10,
     "metadata": {},
     "output_type": "execute_result"
    }
   ],
   "source": [
    "prefix_path"
   ]
  }
 ],
 "metadata": {
  "kernelspec": {
   "display_name": "nni",
   "language": "python",
   "name": "python3"
  },
  "language_info": {
   "codemirror_mode": {
    "name": "ipython",
    "version": 3
   },
   "file_extension": ".py",
   "mimetype": "text/x-python",
   "name": "python",
   "nbconvert_exporter": "python",
   "pygments_lexer": "ipython3",
   "version": "3.9.19"
  }
 },
 "nbformat": 4,
 "nbformat_minor": 2
}
